{
 "cells": [
  {
   "cell_type": "code",
   "execution_count": 1,
   "metadata": {},
   "outputs": [],
   "source": [
    "# Import libraries\n",
    "import pandas as pd\n",
    "import numpy as np\n",
    "import matplotlib.pyplot as plt\n",
    "import matplotlib\n",
    "import seaborn as sns\n",
    "from sklearn.metrics import accuracy_score,f1_score,confusion_matrix,classification_report\n",
    "from sklearn.model_selection import train_test_split,cross_val_score,KFold,StratifiedKFold\n",
    "from sklearn.linear_model import LogisticRegression\n",
    "import optuna\n",
    "from category_encoders import *\n",
    "from sklearn.pipeline import Pipeline\n",
    "import warnings\n",
    "warnings.filterwarnings('ignore')\n",
    "import pickle\n",
    "#Get your class weights\n",
    "\n",
    "from sklearn.utils.class_weight import compute_class_weight\n",
    "from sklearn.ensemble import RandomForestClassifier\n",
    "from sklearn.impute import SimpleImputer as imputer\n",
    "\n",
    "SEED = 123\n",
    "\n",
    "\n",
    "%matplotlib inline\n",
    "sns.set_style('darkgrid')\n",
    "matplotlib.rcParams[\"font.size\"] = 14\n",
    "matplotlib.rcParams[\"figure.figsize\"] = (9, 5)\n",
    "matplotlib.rcParams[\"figure.facecolor\"] = \"#00000000\""
   ]
  },
  {
   "cell_type": "code",
   "execution_count": 2,
   "metadata": {},
   "outputs": [],
   "source": [
    "#load the train and test data\n",
    "\n",
    "\n",
    "train_demo = pd.read_csv('traindemographics.csv')\n",
    "train_per = pd.read_csv('trainperf.csv')\n",
    "train_previous = pd.read_csv('trainprevloans.csv')\n",
    "train_demo.head(5)\n",
    "\n",
    "\n",
    "\n",
    "test_demo = pd.read_csv('testdemographics.csv')\n",
    "test_per = pd.read_csv('testperf.csv')\n",
    "test_previous = pd.read_csv('testprevloans.csv')\n",
    "test_demo.head(5)\n",
    "\n",
    "\n",
    "samplesubmission = pd.read_csv(\"SampleSubmission.csv\")"
   ]
  },
  {
   "cell_type": "code",
   "execution_count": 3,
   "metadata": {},
   "outputs": [
    {
     "data": {
      "text/html": [
       "<div>\n",
       "<style scoped>\n",
       "    .dataframe tbody tr th:only-of-type {\n",
       "        vertical-align: middle;\n",
       "    }\n",
       "\n",
       "    .dataframe tbody tr th {\n",
       "        vertical-align: top;\n",
       "    }\n",
       "\n",
       "    .dataframe thead th {\n",
       "        text-align: right;\n",
       "    }\n",
       "</style>\n",
       "<table border=\"1\" class=\"dataframe\">\n",
       "  <thead>\n",
       "    <tr style=\"text-align: right;\">\n",
       "      <th></th>\n",
       "      <th>customerid</th>\n",
       "      <th>birthdate</th>\n",
       "      <th>bank_account_type</th>\n",
       "      <th>longitude_gps</th>\n",
       "      <th>latitude_gps</th>\n",
       "      <th>bank_name_clients</th>\n",
       "      <th>bank_branch_clients</th>\n",
       "      <th>employment_status_clients</th>\n",
       "      <th>level_of_education_clients</th>\n",
       "    </tr>\n",
       "  </thead>\n",
       "  <tbody>\n",
       "    <tr>\n",
       "      <th>0</th>\n",
       "      <td>8a858e135cb22031015cbafc76964ebd</td>\n",
       "      <td>1973-10-10 00:00:00.000000</td>\n",
       "      <td>Savings</td>\n",
       "      <td>3.319219</td>\n",
       "      <td>6.528604</td>\n",
       "      <td>GT Bank</td>\n",
       "      <td>NaN</td>\n",
       "      <td>NaN</td>\n",
       "      <td>NaN</td>\n",
       "    </tr>\n",
       "    <tr>\n",
       "      <th>1</th>\n",
       "      <td>8a858e275c7ea5ec015c82482d7c3996</td>\n",
       "      <td>1986-01-21 00:00:00.000000</td>\n",
       "      <td>Savings</td>\n",
       "      <td>3.325598</td>\n",
       "      <td>7.119403</td>\n",
       "      <td>Sterling Bank</td>\n",
       "      <td>NaN</td>\n",
       "      <td>Permanent</td>\n",
       "      <td>NaN</td>\n",
       "    </tr>\n",
       "    <tr>\n",
       "      <th>2</th>\n",
       "      <td>8a858e5b5bd99460015bdc95cd485634</td>\n",
       "      <td>1987-04-01 00:00:00.000000</td>\n",
       "      <td>Savings</td>\n",
       "      <td>5.746100</td>\n",
       "      <td>5.563174</td>\n",
       "      <td>Fidelity Bank</td>\n",
       "      <td>NaN</td>\n",
       "      <td>NaN</td>\n",
       "      <td>NaN</td>\n",
       "    </tr>\n",
       "    <tr>\n",
       "      <th>3</th>\n",
       "      <td>8a858efd5ca70688015cabd1f1e94b55</td>\n",
       "      <td>1991-07-19 00:00:00.000000</td>\n",
       "      <td>Savings</td>\n",
       "      <td>3.362850</td>\n",
       "      <td>6.642485</td>\n",
       "      <td>GT Bank</td>\n",
       "      <td>NaN</td>\n",
       "      <td>Permanent</td>\n",
       "      <td>NaN</td>\n",
       "    </tr>\n",
       "    <tr>\n",
       "      <th>4</th>\n",
       "      <td>8a858e785acd3412015acd48f4920d04</td>\n",
       "      <td>1982-11-22 00:00:00.000000</td>\n",
       "      <td>Savings</td>\n",
       "      <td>8.455332</td>\n",
       "      <td>11.971410</td>\n",
       "      <td>GT Bank</td>\n",
       "      <td>NaN</td>\n",
       "      <td>Permanent</td>\n",
       "      <td>NaN</td>\n",
       "    </tr>\n",
       "  </tbody>\n",
       "</table>\n",
       "</div>"
      ],
      "text/plain": [
       "                         customerid                   birthdate  \\\n",
       "0  8a858e135cb22031015cbafc76964ebd  1973-10-10 00:00:00.000000   \n",
       "1  8a858e275c7ea5ec015c82482d7c3996  1986-01-21 00:00:00.000000   \n",
       "2  8a858e5b5bd99460015bdc95cd485634  1987-04-01 00:00:00.000000   \n",
       "3  8a858efd5ca70688015cabd1f1e94b55  1991-07-19 00:00:00.000000   \n",
       "4  8a858e785acd3412015acd48f4920d04  1982-11-22 00:00:00.000000   \n",
       "\n",
       "  bank_account_type  longitude_gps  latitude_gps bank_name_clients  \\\n",
       "0           Savings       3.319219      6.528604           GT Bank   \n",
       "1           Savings       3.325598      7.119403     Sterling Bank   \n",
       "2           Savings       5.746100      5.563174     Fidelity Bank   \n",
       "3           Savings       3.362850      6.642485           GT Bank   \n",
       "4           Savings       8.455332     11.971410           GT Bank   \n",
       "\n",
       "  bank_branch_clients employment_status_clients level_of_education_clients  \n",
       "0                 NaN                       NaN                        NaN  \n",
       "1                 NaN                 Permanent                        NaN  \n",
       "2                 NaN                       NaN                        NaN  \n",
       "3                 NaN                 Permanent                        NaN  \n",
       "4                 NaN                 Permanent                        NaN  "
      ]
     },
     "execution_count": 3,
     "metadata": {},
     "output_type": "execute_result"
    }
   ],
   "source": [
    "train_demo.head()"
   ]
  },
  {
   "cell_type": "code",
   "execution_count": 4,
   "metadata": {},
   "outputs": [
    {
     "data": {
      "text/html": [
       "<div>\n",
       "<style scoped>\n",
       "    .dataframe tbody tr th:only-of-type {\n",
       "        vertical-align: middle;\n",
       "    }\n",
       "\n",
       "    .dataframe tbody tr th {\n",
       "        vertical-align: top;\n",
       "    }\n",
       "\n",
       "    .dataframe thead th {\n",
       "        text-align: right;\n",
       "    }\n",
       "</style>\n",
       "<table border=\"1\" class=\"dataframe\">\n",
       "  <thead>\n",
       "    <tr style=\"text-align: right;\">\n",
       "      <th></th>\n",
       "      <th>customerid</th>\n",
       "      <th>systemloanid</th>\n",
       "      <th>loannumber</th>\n",
       "      <th>approveddate</th>\n",
       "      <th>creationdate</th>\n",
       "      <th>loanamount</th>\n",
       "      <th>totaldue</th>\n",
       "      <th>termdays</th>\n",
       "      <th>referredby</th>\n",
       "      <th>good_bad_flag</th>\n",
       "    </tr>\n",
       "  </thead>\n",
       "  <tbody>\n",
       "    <tr>\n",
       "      <th>0</th>\n",
       "      <td>8a2a81a74ce8c05d014cfb32a0da1049</td>\n",
       "      <td>301994762</td>\n",
       "      <td>12</td>\n",
       "      <td>2017-07-25 08:22:56.000000</td>\n",
       "      <td>2017-07-25 07:22:47.000000</td>\n",
       "      <td>30000.0</td>\n",
       "      <td>34500.0</td>\n",
       "      <td>30</td>\n",
       "      <td>NaN</td>\n",
       "      <td>Good</td>\n",
       "    </tr>\n",
       "    <tr>\n",
       "      <th>1</th>\n",
       "      <td>8a85886e54beabf90154c0a29ae757c0</td>\n",
       "      <td>301965204</td>\n",
       "      <td>2</td>\n",
       "      <td>2017-07-05 17:04:41.000000</td>\n",
       "      <td>2017-07-05 16:04:18.000000</td>\n",
       "      <td>15000.0</td>\n",
       "      <td>17250.0</td>\n",
       "      <td>30</td>\n",
       "      <td>NaN</td>\n",
       "      <td>Good</td>\n",
       "    </tr>\n",
       "    <tr>\n",
       "      <th>2</th>\n",
       "      <td>8a8588f35438fe12015444567666018e</td>\n",
       "      <td>301966580</td>\n",
       "      <td>7</td>\n",
       "      <td>2017-07-06 14:52:57.000000</td>\n",
       "      <td>2017-07-06 13:52:51.000000</td>\n",
       "      <td>20000.0</td>\n",
       "      <td>22250.0</td>\n",
       "      <td>15</td>\n",
       "      <td>NaN</td>\n",
       "      <td>Good</td>\n",
       "    </tr>\n",
       "    <tr>\n",
       "      <th>3</th>\n",
       "      <td>8a85890754145ace015429211b513e16</td>\n",
       "      <td>301999343</td>\n",
       "      <td>3</td>\n",
       "      <td>2017-07-27 19:00:41.000000</td>\n",
       "      <td>2017-07-27 18:00:35.000000</td>\n",
       "      <td>10000.0</td>\n",
       "      <td>11500.0</td>\n",
       "      <td>15</td>\n",
       "      <td>NaN</td>\n",
       "      <td>Good</td>\n",
       "    </tr>\n",
       "    <tr>\n",
       "      <th>4</th>\n",
       "      <td>8a858970548359cc0154883481981866</td>\n",
       "      <td>301962360</td>\n",
       "      <td>9</td>\n",
       "      <td>2017-07-03 23:42:45.000000</td>\n",
       "      <td>2017-07-03 22:42:39.000000</td>\n",
       "      <td>40000.0</td>\n",
       "      <td>44000.0</td>\n",
       "      <td>30</td>\n",
       "      <td>NaN</td>\n",
       "      <td>Good</td>\n",
       "    </tr>\n",
       "  </tbody>\n",
       "</table>\n",
       "</div>"
      ],
      "text/plain": [
       "                         customerid  systemloanid  loannumber  \\\n",
       "0  8a2a81a74ce8c05d014cfb32a0da1049     301994762          12   \n",
       "1  8a85886e54beabf90154c0a29ae757c0     301965204           2   \n",
       "2  8a8588f35438fe12015444567666018e     301966580           7   \n",
       "3  8a85890754145ace015429211b513e16     301999343           3   \n",
       "4  8a858970548359cc0154883481981866     301962360           9   \n",
       "\n",
       "                 approveddate                creationdate  loanamount  \\\n",
       "0  2017-07-25 08:22:56.000000  2017-07-25 07:22:47.000000     30000.0   \n",
       "1  2017-07-05 17:04:41.000000  2017-07-05 16:04:18.000000     15000.0   \n",
       "2  2017-07-06 14:52:57.000000  2017-07-06 13:52:51.000000     20000.0   \n",
       "3  2017-07-27 19:00:41.000000  2017-07-27 18:00:35.000000     10000.0   \n",
       "4  2017-07-03 23:42:45.000000  2017-07-03 22:42:39.000000     40000.0   \n",
       "\n",
       "   totaldue  termdays referredby good_bad_flag  \n",
       "0   34500.0        30        NaN          Good  \n",
       "1   17250.0        30        NaN          Good  \n",
       "2   22250.0        15        NaN          Good  \n",
       "3   11500.0        15        NaN          Good  \n",
       "4   44000.0        30        NaN          Good  "
      ]
     },
     "execution_count": 4,
     "metadata": {},
     "output_type": "execute_result"
    }
   ],
   "source": [
    "train_per.head() "
   ]
  },
  {
   "cell_type": "code",
   "execution_count": 5,
   "metadata": {},
   "outputs": [
    {
     "data": {
      "text/html": [
       "<div>\n",
       "<style scoped>\n",
       "    .dataframe tbody tr th:only-of-type {\n",
       "        vertical-align: middle;\n",
       "    }\n",
       "\n",
       "    .dataframe tbody tr th {\n",
       "        vertical-align: top;\n",
       "    }\n",
       "\n",
       "    .dataframe thead th {\n",
       "        text-align: right;\n",
       "    }\n",
       "</style>\n",
       "<table border=\"1\" class=\"dataframe\">\n",
       "  <thead>\n",
       "    <tr style=\"text-align: right;\">\n",
       "      <th></th>\n",
       "      <th>customerid</th>\n",
       "      <th>systemloanid</th>\n",
       "      <th>loannumber</th>\n",
       "      <th>approveddate</th>\n",
       "      <th>creationdate</th>\n",
       "      <th>loanamount</th>\n",
       "      <th>totaldue</th>\n",
       "      <th>termdays</th>\n",
       "      <th>closeddate</th>\n",
       "      <th>referredby</th>\n",
       "      <th>firstduedate</th>\n",
       "      <th>firstrepaiddate</th>\n",
       "    </tr>\n",
       "  </thead>\n",
       "  <tbody>\n",
       "    <tr>\n",
       "      <th>0</th>\n",
       "      <td>8a2a81a74ce8c05d014cfb32a0da1049</td>\n",
       "      <td>301682320</td>\n",
       "      <td>2</td>\n",
       "      <td>2016-08-15 18:22:40.000000</td>\n",
       "      <td>2016-08-15 17:22:32.000000</td>\n",
       "      <td>10000.0</td>\n",
       "      <td>13000.0</td>\n",
       "      <td>30</td>\n",
       "      <td>2016-09-01 16:06:48.000000</td>\n",
       "      <td>NaN</td>\n",
       "      <td>2016-09-14 00:00:00.000000</td>\n",
       "      <td>2016-09-01 15:51:43.000000</td>\n",
       "    </tr>\n",
       "    <tr>\n",
       "      <th>1</th>\n",
       "      <td>8a2a81a74ce8c05d014cfb32a0da1049</td>\n",
       "      <td>301883808</td>\n",
       "      <td>9</td>\n",
       "      <td>2017-04-28 18:39:07.000000</td>\n",
       "      <td>2017-04-28 17:38:53.000000</td>\n",
       "      <td>10000.0</td>\n",
       "      <td>13000.0</td>\n",
       "      <td>30</td>\n",
       "      <td>2017-05-28 14:44:49.000000</td>\n",
       "      <td>NaN</td>\n",
       "      <td>2017-05-30 00:00:00.000000</td>\n",
       "      <td>2017-05-26 00:00:00.000000</td>\n",
       "    </tr>\n",
       "    <tr>\n",
       "      <th>2</th>\n",
       "      <td>8a2a81a74ce8c05d014cfb32a0da1049</td>\n",
       "      <td>301831714</td>\n",
       "      <td>8</td>\n",
       "      <td>2017-03-05 10:56:25.000000</td>\n",
       "      <td>2017-03-05 09:56:19.000000</td>\n",
       "      <td>20000.0</td>\n",
       "      <td>23800.0</td>\n",
       "      <td>30</td>\n",
       "      <td>2017-04-26 22:18:56.000000</td>\n",
       "      <td>NaN</td>\n",
       "      <td>2017-04-04 00:00:00.000000</td>\n",
       "      <td>2017-04-26 22:03:47.000000</td>\n",
       "    </tr>\n",
       "    <tr>\n",
       "      <th>3</th>\n",
       "      <td>8a8588f35438fe12015444567666018e</td>\n",
       "      <td>301861541</td>\n",
       "      <td>5</td>\n",
       "      <td>2017-04-09 18:25:55.000000</td>\n",
       "      <td>2017-04-09 17:25:42.000000</td>\n",
       "      <td>10000.0</td>\n",
       "      <td>11500.0</td>\n",
       "      <td>15</td>\n",
       "      <td>2017-04-24 01:35:52.000000</td>\n",
       "      <td>NaN</td>\n",
       "      <td>2017-04-24 00:00:00.000000</td>\n",
       "      <td>2017-04-24 00:48:43.000000</td>\n",
       "    </tr>\n",
       "    <tr>\n",
       "      <th>4</th>\n",
       "      <td>8a85890754145ace015429211b513e16</td>\n",
       "      <td>301941754</td>\n",
       "      <td>2</td>\n",
       "      <td>2017-06-17 09:29:57.000000</td>\n",
       "      <td>2017-06-17 08:29:50.000000</td>\n",
       "      <td>10000.0</td>\n",
       "      <td>11500.0</td>\n",
       "      <td>15</td>\n",
       "      <td>2017-07-14 21:18:43.000000</td>\n",
       "      <td>NaN</td>\n",
       "      <td>2017-07-03 00:00:00.000000</td>\n",
       "      <td>2017-07-14 21:08:35.000000</td>\n",
       "    </tr>\n",
       "  </tbody>\n",
       "</table>\n",
       "</div>"
      ],
      "text/plain": [
       "                         customerid  systemloanid  loannumber  \\\n",
       "0  8a2a81a74ce8c05d014cfb32a0da1049     301682320           2   \n",
       "1  8a2a81a74ce8c05d014cfb32a0da1049     301883808           9   \n",
       "2  8a2a81a74ce8c05d014cfb32a0da1049     301831714           8   \n",
       "3  8a8588f35438fe12015444567666018e     301861541           5   \n",
       "4  8a85890754145ace015429211b513e16     301941754           2   \n",
       "\n",
       "                 approveddate                creationdate  loanamount  \\\n",
       "0  2016-08-15 18:22:40.000000  2016-08-15 17:22:32.000000     10000.0   \n",
       "1  2017-04-28 18:39:07.000000  2017-04-28 17:38:53.000000     10000.0   \n",
       "2  2017-03-05 10:56:25.000000  2017-03-05 09:56:19.000000     20000.0   \n",
       "3  2017-04-09 18:25:55.000000  2017-04-09 17:25:42.000000     10000.0   \n",
       "4  2017-06-17 09:29:57.000000  2017-06-17 08:29:50.000000     10000.0   \n",
       "\n",
       "   totaldue  termdays                  closeddate referredby  \\\n",
       "0   13000.0        30  2016-09-01 16:06:48.000000        NaN   \n",
       "1   13000.0        30  2017-05-28 14:44:49.000000        NaN   \n",
       "2   23800.0        30  2017-04-26 22:18:56.000000        NaN   \n",
       "3   11500.0        15  2017-04-24 01:35:52.000000        NaN   \n",
       "4   11500.0        15  2017-07-14 21:18:43.000000        NaN   \n",
       "\n",
       "                 firstduedate             firstrepaiddate  \n",
       "0  2016-09-14 00:00:00.000000  2016-09-01 15:51:43.000000  \n",
       "1  2017-05-30 00:00:00.000000  2017-05-26 00:00:00.000000  \n",
       "2  2017-04-04 00:00:00.000000  2017-04-26 22:03:47.000000  \n",
       "3  2017-04-24 00:00:00.000000  2017-04-24 00:48:43.000000  \n",
       "4  2017-07-03 00:00:00.000000  2017-07-14 21:08:35.000000  "
      ]
     },
     "execution_count": 5,
     "metadata": {},
     "output_type": "execute_result"
    }
   ],
   "source": [
    "train_previous.head()"
   ]
  },
  {
   "cell_type": "code",
   "execution_count": 6,
   "metadata": {},
   "outputs": [
    {
     "data": {
      "text/html": [
       "<div>\n",
       "<style scoped>\n",
       "    .dataframe tbody tr th:only-of-type {\n",
       "        vertical-align: middle;\n",
       "    }\n",
       "\n",
       "    .dataframe tbody tr th {\n",
       "        vertical-align: top;\n",
       "    }\n",
       "\n",
       "    .dataframe thead th {\n",
       "        text-align: right;\n",
       "    }\n",
       "</style>\n",
       "<table border=\"1\" class=\"dataframe\">\n",
       "  <thead>\n",
       "    <tr style=\"text-align: right;\">\n",
       "      <th></th>\n",
       "      <th>customerid</th>\n",
       "      <th>birthdate</th>\n",
       "      <th>bank_account_type</th>\n",
       "      <th>longitude_gps</th>\n",
       "      <th>latitude_gps</th>\n",
       "      <th>bank_name_clients</th>\n",
       "      <th>bank_branch_clients</th>\n",
       "      <th>employment_status_clients</th>\n",
       "      <th>level_of_education_clients</th>\n",
       "    </tr>\n",
       "  </thead>\n",
       "  <tbody>\n",
       "    <tr>\n",
       "      <th>0</th>\n",
       "      <td>8a858f305c8dd672015c93b1db645db4</td>\n",
       "      <td>1976-08-28 00:00:00.000000</td>\n",
       "      <td>Savings</td>\n",
       "      <td>5.296628</td>\n",
       "      <td>7.593965</td>\n",
       "      <td>Heritage Bank</td>\n",
       "      <td>NaN</td>\n",
       "      <td>Permanent</td>\n",
       "      <td>NaN</td>\n",
       "    </tr>\n",
       "    <tr>\n",
       "      <th>1</th>\n",
       "      <td>8a858f085a477386015a47fb049e49ca</td>\n",
       "      <td>1978-06-23 00:00:00.000000</td>\n",
       "      <td>Savings</td>\n",
       "      <td>3.294513</td>\n",
       "      <td>6.596602</td>\n",
       "      <td>UBA</td>\n",
       "      <td>NaN</td>\n",
       "      <td>Permanent</td>\n",
       "      <td>NaN</td>\n",
       "    </tr>\n",
       "    <tr>\n",
       "      <th>2</th>\n",
       "      <td>8a858e6f5cd5e874015cd6f5634c39ad</td>\n",
       "      <td>1984-04-04 00:00:00.000000</td>\n",
       "      <td>Savings</td>\n",
       "      <td>8.501912</td>\n",
       "      <td>7.729364</td>\n",
       "      <td>First Bank</td>\n",
       "      <td>NaN</td>\n",
       "      <td>Permanent</td>\n",
       "      <td>NaN</td>\n",
       "    </tr>\n",
       "    <tr>\n",
       "      <th>3</th>\n",
       "      <td>8a858e9d5bfd7037015bfdab79f61305</td>\n",
       "      <td>1983-05-28 00:00:00.000000</td>\n",
       "      <td>Savings</td>\n",
       "      <td>3.318904</td>\n",
       "      <td>6.681595</td>\n",
       "      <td>UBA</td>\n",
       "      <td>NaN</td>\n",
       "      <td>Permanent</td>\n",
       "      <td>NaN</td>\n",
       "    </tr>\n",
       "    <tr>\n",
       "      <th>4</th>\n",
       "      <td>8a858fde56eb02280156eb6dafc128ac</td>\n",
       "      <td>1982-03-29 00:00:00.000000</td>\n",
       "      <td>Savings</td>\n",
       "      <td>6.354624</td>\n",
       "      <td>4.949031</td>\n",
       "      <td>First Bank</td>\n",
       "      <td>NaN</td>\n",
       "      <td>Self-Employed</td>\n",
       "      <td>NaN</td>\n",
       "    </tr>\n",
       "  </tbody>\n",
       "</table>\n",
       "</div>"
      ],
      "text/plain": [
       "                         customerid                   birthdate  \\\n",
       "0  8a858f305c8dd672015c93b1db645db4  1976-08-28 00:00:00.000000   \n",
       "1  8a858f085a477386015a47fb049e49ca  1978-06-23 00:00:00.000000   \n",
       "2  8a858e6f5cd5e874015cd6f5634c39ad  1984-04-04 00:00:00.000000   \n",
       "3  8a858e9d5bfd7037015bfdab79f61305  1983-05-28 00:00:00.000000   \n",
       "4  8a858fde56eb02280156eb6dafc128ac  1982-03-29 00:00:00.000000   \n",
       "\n",
       "  bank_account_type  longitude_gps  latitude_gps bank_name_clients  \\\n",
       "0           Savings       5.296628      7.593965     Heritage Bank   \n",
       "1           Savings       3.294513      6.596602               UBA   \n",
       "2           Savings       8.501912      7.729364        First Bank   \n",
       "3           Savings       3.318904      6.681595               UBA   \n",
       "4           Savings       6.354624      4.949031        First Bank   \n",
       "\n",
       "  bank_branch_clients employment_status_clients level_of_education_clients  \n",
       "0                 NaN                 Permanent                        NaN  \n",
       "1                 NaN                 Permanent                        NaN  \n",
       "2                 NaN                 Permanent                        NaN  \n",
       "3                 NaN                 Permanent                        NaN  \n",
       "4                 NaN             Self-Employed                        NaN  "
      ]
     },
     "execution_count": 6,
     "metadata": {},
     "output_type": "execute_result"
    }
   ],
   "source": [
    "test_demo.head()"
   ]
  },
  {
   "cell_type": "code",
   "execution_count": 7,
   "metadata": {},
   "outputs": [
    {
     "data": {
      "text/html": [
       "<div>\n",
       "<style scoped>\n",
       "    .dataframe tbody tr th:only-of-type {\n",
       "        vertical-align: middle;\n",
       "    }\n",
       "\n",
       "    .dataframe tbody tr th {\n",
       "        vertical-align: top;\n",
       "    }\n",
       "\n",
       "    .dataframe thead th {\n",
       "        text-align: right;\n",
       "    }\n",
       "</style>\n",
       "<table border=\"1\" class=\"dataframe\">\n",
       "  <thead>\n",
       "    <tr style=\"text-align: right;\">\n",
       "      <th></th>\n",
       "      <th>customerid</th>\n",
       "      <th>systemloanid</th>\n",
       "      <th>loannumber</th>\n",
       "      <th>approveddate</th>\n",
       "      <th>creationdate</th>\n",
       "      <th>loanamount</th>\n",
       "      <th>totaldue</th>\n",
       "      <th>termdays</th>\n",
       "      <th>referredby</th>\n",
       "    </tr>\n",
       "  </thead>\n",
       "  <tbody>\n",
       "    <tr>\n",
       "      <th>0</th>\n",
       "      <td>8a858899538ddb8e015390510b321f08</td>\n",
       "      <td>301998974</td>\n",
       "      <td>4</td>\n",
       "      <td>40:48.0</td>\n",
       "      <td>39:35.0</td>\n",
       "      <td>10000</td>\n",
       "      <td>12250.0</td>\n",
       "      <td>30</td>\n",
       "      <td>NaN</td>\n",
       "    </tr>\n",
       "    <tr>\n",
       "      <th>1</th>\n",
       "      <td>8a858959537a097401537a4e316e25f7</td>\n",
       "      <td>301963615</td>\n",
       "      <td>10</td>\n",
       "      <td>43:40.0</td>\n",
       "      <td>42:34.0</td>\n",
       "      <td>40000</td>\n",
       "      <td>44000.0</td>\n",
       "      <td>30</td>\n",
       "      <td>NaN</td>\n",
       "    </tr>\n",
       "    <tr>\n",
       "      <th>2</th>\n",
       "      <td>8a8589c253ace09b0153af6ba58f1f31</td>\n",
       "      <td>301982236</td>\n",
       "      <td>6</td>\n",
       "      <td>15:11.0</td>\n",
       "      <td>15:04.0</td>\n",
       "      <td>20000</td>\n",
       "      <td>24500.0</td>\n",
       "      <td>30</td>\n",
       "      <td>NaN</td>\n",
       "    </tr>\n",
       "    <tr>\n",
       "      <th>3</th>\n",
       "      <td>8a858e095aae82b7015aae86ca1e030b</td>\n",
       "      <td>301971730</td>\n",
       "      <td>8</td>\n",
       "      <td>00:54.0</td>\n",
       "      <td>00:49.0</td>\n",
       "      <td>30000</td>\n",
       "      <td>34500.0</td>\n",
       "      <td>30</td>\n",
       "      <td>NaN</td>\n",
       "    </tr>\n",
       "    <tr>\n",
       "      <th>4</th>\n",
       "      <td>8a858e225a28c713015a30db5c48383d</td>\n",
       "      <td>301959177</td>\n",
       "      <td>4</td>\n",
       "      <td>04:33.0</td>\n",
       "      <td>04:27.0</td>\n",
       "      <td>20000</td>\n",
       "      <td>24500.0</td>\n",
       "      <td>30</td>\n",
       "      <td>NaN</td>\n",
       "    </tr>\n",
       "  </tbody>\n",
       "</table>\n",
       "</div>"
      ],
      "text/plain": [
       "                         customerid  systemloanid  loannumber approveddate  \\\n",
       "0  8a858899538ddb8e015390510b321f08     301998974           4      40:48.0   \n",
       "1  8a858959537a097401537a4e316e25f7     301963615          10      43:40.0   \n",
       "2  8a8589c253ace09b0153af6ba58f1f31     301982236           6      15:11.0   \n",
       "3  8a858e095aae82b7015aae86ca1e030b     301971730           8      00:54.0   \n",
       "4  8a858e225a28c713015a30db5c48383d     301959177           4      04:33.0   \n",
       "\n",
       "  creationdate  loanamount  totaldue  termdays referredby  \n",
       "0      39:35.0       10000   12250.0        30        NaN  \n",
       "1      42:34.0       40000   44000.0        30        NaN  \n",
       "2      15:04.0       20000   24500.0        30        NaN  \n",
       "3      00:49.0       30000   34500.0        30        NaN  \n",
       "4      04:27.0       20000   24500.0        30        NaN  "
      ]
     },
     "execution_count": 7,
     "metadata": {},
     "output_type": "execute_result"
    }
   ],
   "source": [
    "test_per.head() "
   ]
  },
  {
   "cell_type": "code",
   "execution_count": 8,
   "metadata": {},
   "outputs": [
    {
     "data": {
      "text/plain": [
       "customerid          0\n",
       "systemloanid        0\n",
       "loannumber          0\n",
       "approveddate        0\n",
       "creationdate        0\n",
       "loanamount          0\n",
       "totaldue            0\n",
       "termdays            0\n",
       "referredby       3781\n",
       "good_bad_flag       0\n",
       "dtype: int64"
      ]
     },
     "execution_count": 8,
     "metadata": {},
     "output_type": "execute_result"
    }
   ],
   "source": [
    "train_per.isnull().sum()"
   ]
  },
  {
   "cell_type": "code",
   "execution_count": 9,
   "metadata": {},
   "outputs": [
    {
     "data": {
      "text/html": [
       "<div>\n",
       "<style scoped>\n",
       "    .dataframe tbody tr th:only-of-type {\n",
       "        vertical-align: middle;\n",
       "    }\n",
       "\n",
       "    .dataframe tbody tr th {\n",
       "        vertical-align: top;\n",
       "    }\n",
       "\n",
       "    .dataframe thead th {\n",
       "        text-align: right;\n",
       "    }\n",
       "</style>\n",
       "<table border=\"1\" class=\"dataframe\">\n",
       "  <thead>\n",
       "    <tr style=\"text-align: right;\">\n",
       "      <th></th>\n",
       "      <th>customerid</th>\n",
       "      <th>systemloanid</th>\n",
       "      <th>loannumber</th>\n",
       "      <th>approveddate</th>\n",
       "      <th>creationdate</th>\n",
       "      <th>loanamount</th>\n",
       "      <th>totaldue</th>\n",
       "      <th>termdays</th>\n",
       "      <th>referredby</th>\n",
       "    </tr>\n",
       "  </thead>\n",
       "  <tbody>\n",
       "    <tr>\n",
       "      <th>0</th>\n",
       "      <td>8a858899538ddb8e015390510b321f08</td>\n",
       "      <td>301998974</td>\n",
       "      <td>4</td>\n",
       "      <td>40:48.0</td>\n",
       "      <td>39:35.0</td>\n",
       "      <td>10000</td>\n",
       "      <td>12250.0</td>\n",
       "      <td>30</td>\n",
       "      <td>NaN</td>\n",
       "    </tr>\n",
       "    <tr>\n",
       "      <th>1</th>\n",
       "      <td>8a858959537a097401537a4e316e25f7</td>\n",
       "      <td>301963615</td>\n",
       "      <td>10</td>\n",
       "      <td>43:40.0</td>\n",
       "      <td>42:34.0</td>\n",
       "      <td>40000</td>\n",
       "      <td>44000.0</td>\n",
       "      <td>30</td>\n",
       "      <td>NaN</td>\n",
       "    </tr>\n",
       "    <tr>\n",
       "      <th>2</th>\n",
       "      <td>8a8589c253ace09b0153af6ba58f1f31</td>\n",
       "      <td>301982236</td>\n",
       "      <td>6</td>\n",
       "      <td>15:11.0</td>\n",
       "      <td>15:04.0</td>\n",
       "      <td>20000</td>\n",
       "      <td>24500.0</td>\n",
       "      <td>30</td>\n",
       "      <td>NaN</td>\n",
       "    </tr>\n",
       "    <tr>\n",
       "      <th>3</th>\n",
       "      <td>8a858e095aae82b7015aae86ca1e030b</td>\n",
       "      <td>301971730</td>\n",
       "      <td>8</td>\n",
       "      <td>00:54.0</td>\n",
       "      <td>00:49.0</td>\n",
       "      <td>30000</td>\n",
       "      <td>34500.0</td>\n",
       "      <td>30</td>\n",
       "      <td>NaN</td>\n",
       "    </tr>\n",
       "    <tr>\n",
       "      <th>4</th>\n",
       "      <td>8a858e225a28c713015a30db5c48383d</td>\n",
       "      <td>301959177</td>\n",
       "      <td>4</td>\n",
       "      <td>04:33.0</td>\n",
       "      <td>04:27.0</td>\n",
       "      <td>20000</td>\n",
       "      <td>24500.0</td>\n",
       "      <td>30</td>\n",
       "      <td>NaN</td>\n",
       "    </tr>\n",
       "    <tr>\n",
       "      <th>...</th>\n",
       "      <td>...</td>\n",
       "      <td>...</td>\n",
       "      <td>...</td>\n",
       "      <td>...</td>\n",
       "      <td>...</td>\n",
       "      <td>...</td>\n",
       "      <td>...</td>\n",
       "      <td>...</td>\n",
       "      <td>...</td>\n",
       "    </tr>\n",
       "    <tr>\n",
       "      <th>1445</th>\n",
       "      <td>8a858fb45bb59c21015bb88a191f58f2</td>\n",
       "      <td>301991141</td>\n",
       "      <td>3</td>\n",
       "      <td>47:02.0</td>\n",
       "      <td>46:53.0</td>\n",
       "      <td>10000</td>\n",
       "      <td>11500.0</td>\n",
       "      <td>15</td>\n",
       "      <td>NaN</td>\n",
       "    </tr>\n",
       "    <tr>\n",
       "      <th>1446</th>\n",
       "      <td>8a858fcb5b00cc54015b0253ced26a5f</td>\n",
       "      <td>301963018</td>\n",
       "      <td>3</td>\n",
       "      <td>00:45.0</td>\n",
       "      <td>04:05.0</td>\n",
       "      <td>10000</td>\n",
       "      <td>13000.0</td>\n",
       "      <td>30</td>\n",
       "      <td>NaN</td>\n",
       "    </tr>\n",
       "    <tr>\n",
       "      <th>1447</th>\n",
       "      <td>8a858fde56eb02280156f59b976d46c0</td>\n",
       "      <td>301994653</td>\n",
       "      <td>9</td>\n",
       "      <td>09:40.0</td>\n",
       "      <td>09:33.0</td>\n",
       "      <td>40000</td>\n",
       "      <td>48000.0</td>\n",
       "      <td>60</td>\n",
       "      <td>NaN</td>\n",
       "    </tr>\n",
       "    <tr>\n",
       "      <th>1448</th>\n",
       "      <td>8a858e10570f2d65015717fcfec44996</td>\n",
       "      <td>301961483</td>\n",
       "      <td>14</td>\n",
       "      <td>47:54.0</td>\n",
       "      <td>46:49.0</td>\n",
       "      <td>60000</td>\n",
       "      <td>68100.0</td>\n",
       "      <td>90</td>\n",
       "      <td>NaN</td>\n",
       "    </tr>\n",
       "    <tr>\n",
       "      <th>1449</th>\n",
       "      <td>8a858f605b911d60015b91b99d55400d</td>\n",
       "      <td>301973097</td>\n",
       "      <td>6</td>\n",
       "      <td>12:09.0</td>\n",
       "      <td>12:03.0</td>\n",
       "      <td>20000</td>\n",
       "      <td>22250.0</td>\n",
       "      <td>15</td>\n",
       "      <td>8a858ff259d1429e0159d2d0194c4b8e</td>\n",
       "    </tr>\n",
       "  </tbody>\n",
       "</table>\n",
       "<p>1450 rows × 9 columns</p>\n",
       "</div>"
      ],
      "text/plain": [
       "                            customerid  systemloanid  loannumber approveddate  \\\n",
       "0     8a858899538ddb8e015390510b321f08     301998974           4      40:48.0   \n",
       "1     8a858959537a097401537a4e316e25f7     301963615          10      43:40.0   \n",
       "2     8a8589c253ace09b0153af6ba58f1f31     301982236           6      15:11.0   \n",
       "3     8a858e095aae82b7015aae86ca1e030b     301971730           8      00:54.0   \n",
       "4     8a858e225a28c713015a30db5c48383d     301959177           4      04:33.0   \n",
       "...                                ...           ...         ...          ...   \n",
       "1445  8a858fb45bb59c21015bb88a191f58f2     301991141           3      47:02.0   \n",
       "1446  8a858fcb5b00cc54015b0253ced26a5f     301963018           3      00:45.0   \n",
       "1447  8a858fde56eb02280156f59b976d46c0     301994653           9      09:40.0   \n",
       "1448  8a858e10570f2d65015717fcfec44996     301961483          14      47:54.0   \n",
       "1449  8a858f605b911d60015b91b99d55400d     301973097           6      12:09.0   \n",
       "\n",
       "     creationdate  loanamount  totaldue  termdays  \\\n",
       "0         39:35.0       10000   12250.0        30   \n",
       "1         42:34.0       40000   44000.0        30   \n",
       "2         15:04.0       20000   24500.0        30   \n",
       "3         00:49.0       30000   34500.0        30   \n",
       "4         04:27.0       20000   24500.0        30   \n",
       "...           ...         ...       ...       ...   \n",
       "1445      46:53.0       10000   11500.0        15   \n",
       "1446      04:05.0       10000   13000.0        30   \n",
       "1447      09:33.0       40000   48000.0        60   \n",
       "1448      46:49.0       60000   68100.0        90   \n",
       "1449      12:03.0       20000   22250.0        15   \n",
       "\n",
       "                            referredby  \n",
       "0                                  NaN  \n",
       "1                                  NaN  \n",
       "2                                  NaN  \n",
       "3                                  NaN  \n",
       "4                                  NaN  \n",
       "...                                ...  \n",
       "1445                               NaN  \n",
       "1446                               NaN  \n",
       "1447                               NaN  \n",
       "1448                               NaN  \n",
       "1449  8a858ff259d1429e0159d2d0194c4b8e  \n",
       "\n",
       "[1450 rows x 9 columns]"
      ]
     },
     "execution_count": 9,
     "metadata": {},
     "output_type": "execute_result"
    }
   ],
   "source": [
    "test_per\n",
    "\n",
    "# train_previous"
   ]
  },
  {
   "cell_type": "code",
   "execution_count": 10,
   "metadata": {},
   "outputs": [
    {
     "data": {
      "text/html": [
       "<div>\n",
       "<style scoped>\n",
       "    .dataframe tbody tr th:only-of-type {\n",
       "        vertical-align: middle;\n",
       "    }\n",
       "\n",
       "    .dataframe tbody tr th {\n",
       "        vertical-align: top;\n",
       "    }\n",
       "\n",
       "    .dataframe thead th {\n",
       "        text-align: right;\n",
       "    }\n",
       "</style>\n",
       "<table border=\"1\" class=\"dataframe\">\n",
       "  <thead>\n",
       "    <tr style=\"text-align: right;\">\n",
       "      <th></th>\n",
       "      <th>customerid</th>\n",
       "      <th>systemloanid</th>\n",
       "      <th>loannumber</th>\n",
       "      <th>approveddate</th>\n",
       "      <th>creationdate</th>\n",
       "      <th>loanamount</th>\n",
       "      <th>totaldue</th>\n",
       "      <th>termdays</th>\n",
       "      <th>referredby</th>\n",
       "      <th>good_bad_flag</th>\n",
       "      <th>birthdate</th>\n",
       "      <th>bank_account_type</th>\n",
       "      <th>longitude_gps</th>\n",
       "      <th>latitude_gps</th>\n",
       "      <th>bank_name_clients</th>\n",
       "      <th>bank_branch_clients</th>\n",
       "      <th>employment_status_clients</th>\n",
       "      <th>level_of_education_clients</th>\n",
       "    </tr>\n",
       "  </thead>\n",
       "  <tbody>\n",
       "    <tr>\n",
       "      <th>0</th>\n",
       "      <td>8a2a81a74ce8c05d014cfb32a0da1049</td>\n",
       "      <td>301994762</td>\n",
       "      <td>12</td>\n",
       "      <td>2017-07-25 08:22:56.000000</td>\n",
       "      <td>2017-07-25 07:22:47.000000</td>\n",
       "      <td>30000.0</td>\n",
       "      <td>34500.0</td>\n",
       "      <td>30</td>\n",
       "      <td>NaN</td>\n",
       "      <td>Good</td>\n",
       "      <td>1972-01-15 00:00:00.000000</td>\n",
       "      <td>Other</td>\n",
       "      <td>3.432010</td>\n",
       "      <td>6.433055</td>\n",
       "      <td>Diamond Bank</td>\n",
       "      <td>NaN</td>\n",
       "      <td>Permanent</td>\n",
       "      <td>Post-Graduate</td>\n",
       "    </tr>\n",
       "    <tr>\n",
       "      <th>1</th>\n",
       "      <td>8a85886e54beabf90154c0a29ae757c0</td>\n",
       "      <td>301965204</td>\n",
       "      <td>2</td>\n",
       "      <td>2017-07-05 17:04:41.000000</td>\n",
       "      <td>2017-07-05 16:04:18.000000</td>\n",
       "      <td>15000.0</td>\n",
       "      <td>17250.0</td>\n",
       "      <td>30</td>\n",
       "      <td>NaN</td>\n",
       "      <td>Good</td>\n",
       "      <td>1985-08-23 00:00:00.000000</td>\n",
       "      <td>Savings</td>\n",
       "      <td>3.885298</td>\n",
       "      <td>7.320700</td>\n",
       "      <td>GT Bank</td>\n",
       "      <td>DUGBE,IBADAN</td>\n",
       "      <td>Permanent</td>\n",
       "      <td>Graduate</td>\n",
       "    </tr>\n",
       "    <tr>\n",
       "      <th>2</th>\n",
       "      <td>8a8588f35438fe12015444567666018e</td>\n",
       "      <td>301966580</td>\n",
       "      <td>7</td>\n",
       "      <td>2017-07-06 14:52:57.000000</td>\n",
       "      <td>2017-07-06 13:52:51.000000</td>\n",
       "      <td>20000.0</td>\n",
       "      <td>22250.0</td>\n",
       "      <td>15</td>\n",
       "      <td>NaN</td>\n",
       "      <td>Good</td>\n",
       "      <td>1984-09-18 00:00:00.000000</td>\n",
       "      <td>Other</td>\n",
       "      <td>11.139350</td>\n",
       "      <td>10.292041</td>\n",
       "      <td>EcoBank</td>\n",
       "      <td>NaN</td>\n",
       "      <td>Permanent</td>\n",
       "      <td>NaN</td>\n",
       "    </tr>\n",
       "    <tr>\n",
       "      <th>3</th>\n",
       "      <td>8a85890754145ace015429211b513e16</td>\n",
       "      <td>301999343</td>\n",
       "      <td>3</td>\n",
       "      <td>2017-07-27 19:00:41.000000</td>\n",
       "      <td>2017-07-27 18:00:35.000000</td>\n",
       "      <td>10000.0</td>\n",
       "      <td>11500.0</td>\n",
       "      <td>15</td>\n",
       "      <td>NaN</td>\n",
       "      <td>Good</td>\n",
       "      <td>1977-10-10 00:00:00.000000</td>\n",
       "      <td>Savings</td>\n",
       "      <td>3.985770</td>\n",
       "      <td>7.491708</td>\n",
       "      <td>First Bank</td>\n",
       "      <td>NaN</td>\n",
       "      <td>Permanent</td>\n",
       "      <td>NaN</td>\n",
       "    </tr>\n",
       "    <tr>\n",
       "      <th>4</th>\n",
       "      <td>8a858970548359cc0154883481981866</td>\n",
       "      <td>301962360</td>\n",
       "      <td>9</td>\n",
       "      <td>2017-07-03 23:42:45.000000</td>\n",
       "      <td>2017-07-03 22:42:39.000000</td>\n",
       "      <td>40000.0</td>\n",
       "      <td>44000.0</td>\n",
       "      <td>30</td>\n",
       "      <td>NaN</td>\n",
       "      <td>Good</td>\n",
       "      <td>1986-09-07 00:00:00.000000</td>\n",
       "      <td>Other</td>\n",
       "      <td>7.457913</td>\n",
       "      <td>9.076574</td>\n",
       "      <td>GT Bank</td>\n",
       "      <td>NaN</td>\n",
       "      <td>Permanent</td>\n",
       "      <td>Primary</td>\n",
       "    </tr>\n",
       "  </tbody>\n",
       "</table>\n",
       "</div>"
      ],
      "text/plain": [
       "                         customerid  systemloanid  loannumber  \\\n",
       "0  8a2a81a74ce8c05d014cfb32a0da1049     301994762          12   \n",
       "1  8a85886e54beabf90154c0a29ae757c0     301965204           2   \n",
       "2  8a8588f35438fe12015444567666018e     301966580           7   \n",
       "3  8a85890754145ace015429211b513e16     301999343           3   \n",
       "4  8a858970548359cc0154883481981866     301962360           9   \n",
       "\n",
       "                 approveddate                creationdate  loanamount  \\\n",
       "0  2017-07-25 08:22:56.000000  2017-07-25 07:22:47.000000     30000.0   \n",
       "1  2017-07-05 17:04:41.000000  2017-07-05 16:04:18.000000     15000.0   \n",
       "2  2017-07-06 14:52:57.000000  2017-07-06 13:52:51.000000     20000.0   \n",
       "3  2017-07-27 19:00:41.000000  2017-07-27 18:00:35.000000     10000.0   \n",
       "4  2017-07-03 23:42:45.000000  2017-07-03 22:42:39.000000     40000.0   \n",
       "\n",
       "   totaldue  termdays referredby good_bad_flag                   birthdate  \\\n",
       "0   34500.0        30        NaN          Good  1972-01-15 00:00:00.000000   \n",
       "1   17250.0        30        NaN          Good  1985-08-23 00:00:00.000000   \n",
       "2   22250.0        15        NaN          Good  1984-09-18 00:00:00.000000   \n",
       "3   11500.0        15        NaN          Good  1977-10-10 00:00:00.000000   \n",
       "4   44000.0        30        NaN          Good  1986-09-07 00:00:00.000000   \n",
       "\n",
       "  bank_account_type  longitude_gps  latitude_gps bank_name_clients  \\\n",
       "0             Other       3.432010      6.433055      Diamond Bank   \n",
       "1           Savings       3.885298      7.320700           GT Bank   \n",
       "2             Other      11.139350     10.292041           EcoBank   \n",
       "3           Savings       3.985770      7.491708        First Bank   \n",
       "4             Other       7.457913      9.076574           GT Bank   \n",
       "\n",
       "  bank_branch_clients employment_status_clients level_of_education_clients  \n",
       "0                 NaN                 Permanent              Post-Graduate  \n",
       "1        DUGBE,IBADAN                 Permanent                   Graduate  \n",
       "2                 NaN                 Permanent                        NaN  \n",
       "3                 NaN                 Permanent                        NaN  \n",
       "4                 NaN                 Permanent                    Primary  "
      ]
     },
     "execution_count": 10,
     "metadata": {},
     "output_type": "execute_result"
    }
   ],
   "source": [
    "#We will be merging the demography data and the performance data together\n",
    "\n",
    "#We will leave out the previous loan data because its customerid column does not align with the id columns of the performance data although adding it will \n",
    "#have been of good importance to our model but we can't because of the issue\n",
    "\n",
    "\n",
    "data = train_per.merge(train_demo,on='customerid',how='left')\n",
    "\n",
    "\n",
    "test = test_per.merge(test_demo,on='customerid',how='left')\n",
    "\n",
    "\n",
    "\n",
    "\n",
    "data.head()\n",
    "\n",
    "\n"
   ]
  },
  {
   "cell_type": "code",
   "execution_count": 11,
   "metadata": {},
   "outputs": [
    {
     "data": {
      "text/html": [
       "<div>\n",
       "<style scoped>\n",
       "    .dataframe tbody tr th:only-of-type {\n",
       "        vertical-align: middle;\n",
       "    }\n",
       "\n",
       "    .dataframe tbody tr th {\n",
       "        vertical-align: top;\n",
       "    }\n",
       "\n",
       "    .dataframe thead th {\n",
       "        text-align: right;\n",
       "    }\n",
       "</style>\n",
       "<table border=\"1\" class=\"dataframe\">\n",
       "  <thead>\n",
       "    <tr style=\"text-align: right;\">\n",
       "      <th></th>\n",
       "      <th>customerid</th>\n",
       "      <th>systemloanid</th>\n",
       "      <th>loannumber</th>\n",
       "      <th>approveddate</th>\n",
       "      <th>creationdate</th>\n",
       "      <th>loanamount</th>\n",
       "      <th>totaldue</th>\n",
       "      <th>termdays</th>\n",
       "      <th>referredby</th>\n",
       "      <th>birthdate</th>\n",
       "      <th>bank_account_type</th>\n",
       "      <th>longitude_gps</th>\n",
       "      <th>latitude_gps</th>\n",
       "      <th>bank_name_clients</th>\n",
       "      <th>bank_branch_clients</th>\n",
       "      <th>employment_status_clients</th>\n",
       "      <th>level_of_education_clients</th>\n",
       "    </tr>\n",
       "  </thead>\n",
       "  <tbody>\n",
       "    <tr>\n",
       "      <th>0</th>\n",
       "      <td>8a858899538ddb8e015390510b321f08</td>\n",
       "      <td>301998974</td>\n",
       "      <td>4</td>\n",
       "      <td>40:48.0</td>\n",
       "      <td>39:35.0</td>\n",
       "      <td>10000</td>\n",
       "      <td>12250.0</td>\n",
       "      <td>30</td>\n",
       "      <td>NaN</td>\n",
       "      <td>NaN</td>\n",
       "      <td>NaN</td>\n",
       "      <td>NaN</td>\n",
       "      <td>NaN</td>\n",
       "      <td>NaN</td>\n",
       "      <td>NaN</td>\n",
       "      <td>NaN</td>\n",
       "      <td>NaN</td>\n",
       "    </tr>\n",
       "    <tr>\n",
       "      <th>1</th>\n",
       "      <td>8a858959537a097401537a4e316e25f7</td>\n",
       "      <td>301963615</td>\n",
       "      <td>10</td>\n",
       "      <td>43:40.0</td>\n",
       "      <td>42:34.0</td>\n",
       "      <td>40000</td>\n",
       "      <td>44000.0</td>\n",
       "      <td>30</td>\n",
       "      <td>NaN</td>\n",
       "      <td>NaN</td>\n",
       "      <td>NaN</td>\n",
       "      <td>NaN</td>\n",
       "      <td>NaN</td>\n",
       "      <td>NaN</td>\n",
       "      <td>NaN</td>\n",
       "      <td>NaN</td>\n",
       "      <td>NaN</td>\n",
       "    </tr>\n",
       "    <tr>\n",
       "      <th>2</th>\n",
       "      <td>8a8589c253ace09b0153af6ba58f1f31</td>\n",
       "      <td>301982236</td>\n",
       "      <td>6</td>\n",
       "      <td>15:11.0</td>\n",
       "      <td>15:04.0</td>\n",
       "      <td>20000</td>\n",
       "      <td>24500.0</td>\n",
       "      <td>30</td>\n",
       "      <td>NaN</td>\n",
       "      <td>1981-09-05 00:00:00.000000</td>\n",
       "      <td>Savings</td>\n",
       "      <td>3.227945</td>\n",
       "      <td>6.586668</td>\n",
       "      <td>UBA</td>\n",
       "      <td>NaN</td>\n",
       "      <td>Permanent</td>\n",
       "      <td>NaN</td>\n",
       "    </tr>\n",
       "    <tr>\n",
       "      <th>3</th>\n",
       "      <td>8a858e095aae82b7015aae86ca1e030b</td>\n",
       "      <td>301971730</td>\n",
       "      <td>8</td>\n",
       "      <td>00:54.0</td>\n",
       "      <td>00:49.0</td>\n",
       "      <td>30000</td>\n",
       "      <td>34500.0</td>\n",
       "      <td>30</td>\n",
       "      <td>NaN</td>\n",
       "      <td>NaN</td>\n",
       "      <td>NaN</td>\n",
       "      <td>NaN</td>\n",
       "      <td>NaN</td>\n",
       "      <td>NaN</td>\n",
       "      <td>NaN</td>\n",
       "      <td>NaN</td>\n",
       "      <td>NaN</td>\n",
       "    </tr>\n",
       "    <tr>\n",
       "      <th>4</th>\n",
       "      <td>8a858e225a28c713015a30db5c48383d</td>\n",
       "      <td>301959177</td>\n",
       "      <td>4</td>\n",
       "      <td>04:33.0</td>\n",
       "      <td>04:27.0</td>\n",
       "      <td>20000</td>\n",
       "      <td>24500.0</td>\n",
       "      <td>30</td>\n",
       "      <td>NaN</td>\n",
       "      <td>1975-08-25 00:00:00.000000</td>\n",
       "      <td>Savings</td>\n",
       "      <td>5.248368</td>\n",
       "      <td>13.059864</td>\n",
       "      <td>UBA</td>\n",
       "      <td>NaN</td>\n",
       "      <td>Permanent</td>\n",
       "      <td>NaN</td>\n",
       "    </tr>\n",
       "  </tbody>\n",
       "</table>\n",
       "</div>"
      ],
      "text/plain": [
       "                         customerid  systemloanid  loannumber approveddate  \\\n",
       "0  8a858899538ddb8e015390510b321f08     301998974           4      40:48.0   \n",
       "1  8a858959537a097401537a4e316e25f7     301963615          10      43:40.0   \n",
       "2  8a8589c253ace09b0153af6ba58f1f31     301982236           6      15:11.0   \n",
       "3  8a858e095aae82b7015aae86ca1e030b     301971730           8      00:54.0   \n",
       "4  8a858e225a28c713015a30db5c48383d     301959177           4      04:33.0   \n",
       "\n",
       "  creationdate  loanamount  totaldue  termdays referredby  \\\n",
       "0      39:35.0       10000   12250.0        30        NaN   \n",
       "1      42:34.0       40000   44000.0        30        NaN   \n",
       "2      15:04.0       20000   24500.0        30        NaN   \n",
       "3      00:49.0       30000   34500.0        30        NaN   \n",
       "4      04:27.0       20000   24500.0        30        NaN   \n",
       "\n",
       "                    birthdate bank_account_type  longitude_gps  latitude_gps  \\\n",
       "0                         NaN               NaN            NaN           NaN   \n",
       "1                         NaN               NaN            NaN           NaN   \n",
       "2  1981-09-05 00:00:00.000000           Savings       3.227945      6.586668   \n",
       "3                         NaN               NaN            NaN           NaN   \n",
       "4  1975-08-25 00:00:00.000000           Savings       5.248368     13.059864   \n",
       "\n",
       "  bank_name_clients bank_branch_clients employment_status_clients  \\\n",
       "0               NaN                 NaN                       NaN   \n",
       "1               NaN                 NaN                       NaN   \n",
       "2               UBA                 NaN                 Permanent   \n",
       "3               NaN                 NaN                       NaN   \n",
       "4               UBA                 NaN                 Permanent   \n",
       "\n",
       "  level_of_education_clients  \n",
       "0                        NaN  \n",
       "1                        NaN  \n",
       "2                        NaN  \n",
       "3                        NaN  \n",
       "4                        NaN  "
      ]
     },
     "execution_count": 11,
     "metadata": {},
     "output_type": "execute_result"
    }
   ],
   "source": [
    "test.head()"
   ]
  },
  {
   "cell_type": "code",
   "execution_count": 12,
   "metadata": {},
   "outputs": [
    {
     "data": {
      "text/html": [
       "<div>\n",
       "<style scoped>\n",
       "    .dataframe tbody tr th:only-of-type {\n",
       "        vertical-align: middle;\n",
       "    }\n",
       "\n",
       "    .dataframe tbody tr th {\n",
       "        vertical-align: top;\n",
       "    }\n",
       "\n",
       "    .dataframe thead th {\n",
       "        text-align: right;\n",
       "    }\n",
       "</style>\n",
       "<table border=\"1\" class=\"dataframe\">\n",
       "  <thead>\n",
       "    <tr style=\"text-align: right;\">\n",
       "      <th></th>\n",
       "      <th>loannumber</th>\n",
       "      <th>approveddate</th>\n",
       "      <th>creationdate</th>\n",
       "      <th>loanamount</th>\n",
       "      <th>totaldue</th>\n",
       "      <th>termdays</th>\n",
       "      <th>birthdate</th>\n",
       "      <th>bank_account_type</th>\n",
       "      <th>longitude_gps</th>\n",
       "      <th>latitude_gps</th>\n",
       "      <th>bank_name_clients</th>\n",
       "      <th>employment_status_clients</th>\n",
       "    </tr>\n",
       "  </thead>\n",
       "  <tbody>\n",
       "    <tr>\n",
       "      <th>0</th>\n",
       "      <td>4</td>\n",
       "      <td>40:48.0</td>\n",
       "      <td>39:35.0</td>\n",
       "      <td>10000</td>\n",
       "      <td>12250.0</td>\n",
       "      <td>30</td>\n",
       "      <td>NaN</td>\n",
       "      <td>NaN</td>\n",
       "      <td>NaN</td>\n",
       "      <td>NaN</td>\n",
       "      <td>NaN</td>\n",
       "      <td>NaN</td>\n",
       "    </tr>\n",
       "    <tr>\n",
       "      <th>1</th>\n",
       "      <td>10</td>\n",
       "      <td>43:40.0</td>\n",
       "      <td>42:34.0</td>\n",
       "      <td>40000</td>\n",
       "      <td>44000.0</td>\n",
       "      <td>30</td>\n",
       "      <td>NaN</td>\n",
       "      <td>NaN</td>\n",
       "      <td>NaN</td>\n",
       "      <td>NaN</td>\n",
       "      <td>NaN</td>\n",
       "      <td>NaN</td>\n",
       "    </tr>\n",
       "    <tr>\n",
       "      <th>2</th>\n",
       "      <td>6</td>\n",
       "      <td>15:11.0</td>\n",
       "      <td>15:04.0</td>\n",
       "      <td>20000</td>\n",
       "      <td>24500.0</td>\n",
       "      <td>30</td>\n",
       "      <td>1981-09-05 00:00:00.000000</td>\n",
       "      <td>Savings</td>\n",
       "      <td>3.227945</td>\n",
       "      <td>6.586668</td>\n",
       "      <td>UBA</td>\n",
       "      <td>Permanent</td>\n",
       "    </tr>\n",
       "    <tr>\n",
       "      <th>3</th>\n",
       "      <td>8</td>\n",
       "      <td>00:54.0</td>\n",
       "      <td>00:49.0</td>\n",
       "      <td>30000</td>\n",
       "      <td>34500.0</td>\n",
       "      <td>30</td>\n",
       "      <td>NaN</td>\n",
       "      <td>NaN</td>\n",
       "      <td>NaN</td>\n",
       "      <td>NaN</td>\n",
       "      <td>NaN</td>\n",
       "      <td>NaN</td>\n",
       "    </tr>\n",
       "    <tr>\n",
       "      <th>4</th>\n",
       "      <td>4</td>\n",
       "      <td>04:33.0</td>\n",
       "      <td>04:27.0</td>\n",
       "      <td>20000</td>\n",
       "      <td>24500.0</td>\n",
       "      <td>30</td>\n",
       "      <td>1975-08-25 00:00:00.000000</td>\n",
       "      <td>Savings</td>\n",
       "      <td>5.248368</td>\n",
       "      <td>13.059864</td>\n",
       "      <td>UBA</td>\n",
       "      <td>Permanent</td>\n",
       "    </tr>\n",
       "  </tbody>\n",
       "</table>\n",
       "</div>"
      ],
      "text/plain": [
       "   loannumber approveddate creationdate  loanamount  totaldue  termdays  \\\n",
       "0           4      40:48.0      39:35.0       10000   12250.0        30   \n",
       "1          10      43:40.0      42:34.0       40000   44000.0        30   \n",
       "2           6      15:11.0      15:04.0       20000   24500.0        30   \n",
       "3           8      00:54.0      00:49.0       30000   34500.0        30   \n",
       "4           4      04:33.0      04:27.0       20000   24500.0        30   \n",
       "\n",
       "                    birthdate bank_account_type  longitude_gps  latitude_gps  \\\n",
       "0                         NaN               NaN            NaN           NaN   \n",
       "1                         NaN               NaN            NaN           NaN   \n",
       "2  1981-09-05 00:00:00.000000           Savings       3.227945      6.586668   \n",
       "3                         NaN               NaN            NaN           NaN   \n",
       "4  1975-08-25 00:00:00.000000           Savings       5.248368     13.059864   \n",
       "\n",
       "  bank_name_clients employment_status_clients  \n",
       "0               NaN                       NaN  \n",
       "1               NaN                       NaN  \n",
       "2               UBA                 Permanent  \n",
       "3               NaN                       NaN  \n",
       "4               UBA                 Permanent  "
      ]
     },
     "execution_count": 12,
     "metadata": {},
     "output_type": "execute_result"
    }
   ],
   "source": [
    "#we will be dropping this columns because they contain a lot of null values\n",
    "data = data.drop(['level_of_education_clients','bank_branch_clients','referredby'],1)\n",
    "\n",
    "test = test.drop(['level_of_education_clients','bank_branch_clients','referredby'],1)\n",
    "\n",
    "\n",
    "\n",
    "data = data.drop(['customerid','systemloanid'],1)\n",
    "test = test.drop(['customerid','systemloanid'],1)\n",
    "\n",
    "test.head()"
   ]
  },
  {
   "cell_type": "code",
   "execution_count": 13,
   "metadata": {},
   "outputs": [
    {
     "data": {
      "text/plain": [
       "array(['Permanent', nan, 'Unemployed', 'Self-Employed', 'Student',\n",
       "       'Retired', 'Contract'], dtype=object)"
      ]
     },
     "execution_count": 13,
     "metadata": {},
     "output_type": "execute_result"
    }
   ],
   "source": [
    "data.employment_status_clients.unique()"
   ]
  },
  {
   "cell_type": "markdown",
   "metadata": {},
   "source": [
    "### Exploratory Data Analysis"
   ]
  },
  {
   "cell_type": "code",
   "execution_count": 14,
   "metadata": {},
   "outputs": [
    {
     "name": "stdout",
     "output_type": "stream",
     "text": [
      "Good    0.782221\n",
      "Bad     0.217779\n",
      "Name: good_bad_flag, dtype: float64\n"
     ]
    },
    {
     "data": {
      "text/plain": [
       "Text(0.5, 1.0, 'Good bad count')"
      ]
     },
     "execution_count": 14,
     "metadata": {},
     "output_type": "execute_result"
    },
    {
     "data": {
      "image/png": "[encoded data removed]",
      "text/plain": [
       "<Figure size 648x360 with 1 Axes>"
      ]
     },
     "metadata": {
      "needs_background": "light"
     },
     "output_type": "display_data"
    }
   ],
   "source": [
    "#proportion of customers with good and bad flag\n",
    "\n",
    "print(data.good_bad_flag.value_counts(normalize=True))\n",
    "sns.countplot(x='good_bad_flag',data=data)\n",
    "plt.title('Good bad count')"
   ]
  },
  {
   "cell_type": "code",
   "execution_count": 15,
   "metadata": {},
   "outputs": [
    {
     "name": "stdout",
     "output_type": "stream",
     "text": [
      "loanamount  good_bad_flag\n",
      "10000.0     Good             0.734198\n",
      "            Bad              0.265802\n",
      "15000.0     Good             0.865854\n",
      "            Bad              0.134146\n",
      "20000.0     Good             0.837388\n",
      "            Bad              0.162612\n",
      "25000.0     Good             0.870968\n",
      "            Bad              0.129032\n",
      "30000.0     Good             0.835616\n",
      "            Bad              0.164384\n",
      "35000.0     Good             0.900000\n",
      "            Bad              0.100000\n",
      "40000.0     Good             0.862275\n",
      "            Bad              0.137725\n",
      "45000.0     Good             1.000000\n",
      "50000.0     Good             0.857143\n",
      "            Bad              0.142857\n",
      "60000.0     Good             0.875000\n",
      "            Bad              0.125000\n",
      "Name: good_bad_flag, dtype: float64\n"
     ]
    },
    {
     "data": {
      "text/plain": [
       "<seaborn.axisgrid.FacetGrid at 0x1dc35abe290>"
      ]
     },
     "execution_count": 15,
     "metadata": {},
     "output_type": "execute_result"
    },
    {
     "data": {
      "image/png": "[encoded data removed]",
      "text/plain": [
       "<Figure size 720x360 with 1 Axes>"
      ]
     },
     "metadata": {
      "needs_background": "light"
     },
     "output_type": "display_data"
    }
   ],
   "source": [
    "#distribution of the amount of loan people colect\n",
    "\n",
    "g = data.groupby('loanamount')['good_bad_flag'].value_counts(normalize=True)  \n",
    "\n",
    "print(g)\n",
    "\n",
    "sns.catplot(x ='loanamount',y='good_bad_flag',data = data,kind='box',aspect=2)"
   ]
  },
  {
   "cell_type": "markdown",
   "metadata": {},
   "source": [
    "Most defaulters collected loans between 10 thousand and 35 thousand\n"
   ]
  },
  {
   "cell_type": "code",
   "execution_count": 16,
   "metadata": {},
   "outputs": [
    {
     "data": {
      "text/plain": [
       "<AxesSubplot:title={'center':'Bank account types'}, xlabel='bank_account_type', ylabel='count'>"
      ]
     },
     "execution_count": 16,
     "metadata": {},
     "output_type": "execute_result"
    },
    {
     "data": {
      "image/png": "[encoded data removed]",
      "text/plain": [
       "<Figure size 648x360 with 1 Axes>"
      ]
     },
     "metadata": {
      "needs_background": "light"
     },
     "output_type": "display_data"
    }
   ],
   "source": [
    "#distribution of the amount of banktypes\n",
    "\n",
    "plt.title('Bank account types');\n",
    "sns.countplot(data['bank_account_type'])"
   ]
  },
  {
   "cell_type": "code",
   "execution_count": 17,
   "metadata": {},
   "outputs": [
    {
     "data": {
      "text/plain": [
       "<seaborn.axisgrid.FacetGrid at 0x1dc4a4678b0>"
      ]
     },
     "execution_count": 17,
     "metadata": {},
     "output_type": "execute_result"
    },
    {
     "data": {
      "image/png": "[encoded data removed]",
      "text/plain": [
       "<Figure size 823.825x360 with 1 Axes>"
      ]
     },
     "metadata": {
      "needs_background": "light"
     },
     "output_type": "display_data"
    }
   ],
   "source": [
    "#distribution of the type of account with their defaulting rates\n",
    "sns.catplot(x='bank_account_type',data=data,hue='good_bad_flag',kind='count',aspect=2)\n"
   ]
  },
  {
   "cell_type": "code",
   "execution_count": 18,
   "metadata": {},
   "outputs": [
    {
     "name": "stdout",
     "output_type": "stream",
     "text": [
      "Good    0.759116\n",
      "Bad     0.240884\n",
      "Name: good_bad_flag, dtype: float64\n"
     ]
    },
    {
     "data": {
      "text/plain": [
       "Text(0.5, 1.0, 'Savings with good bad flag')"
      ]
     },
     "execution_count": 18,
     "metadata": {},
     "output_type": "execute_result"
    },
    {
     "data": {
      "image/png": "[encoded data removed]",
      "text/plain": [
       "<Figure size 648x360 with 1 Axes>"
      ]
     },
     "metadata": {
      "needs_background": "light"
     },
     "output_type": "display_data"
    }
   ],
   "source": [
    "acc_dat = data[data['bank_account_type'] == 'Savings']['good_bad_flag']\n",
    "print(acc_dat.value_counts(normalize=True))\n",
    "sns.countplot(acc_dat)\n",
    "plt.title(\"Savings with good bad flag\")"
   ]
  },
  {
   "cell_type": "code",
   "execution_count": 19,
   "metadata": {},
   "outputs": [
    {
     "name": "stdout",
     "output_type": "stream",
     "text": [
      "Good    0.891304\n",
      "Bad     0.108696\n",
      "Name: good_bad_flag, dtype: float64\n"
     ]
    },
    {
     "data": {
      "text/plain": [
       "Text(0.5, 1.0, 'Current with good bad flag')"
      ]
     },
     "execution_count": 19,
     "metadata": {},
     "output_type": "execute_result"
    },
    {
     "data": {
      "image/png": "[encoded data removed]",
      "text/plain": [
       "<Figure size 648x360 with 1 Axes>"
      ]
     },
     "metadata": {
      "needs_background": "light"
     },
     "output_type": "display_data"
    }
   ],
   "source": [
    "acc_cur = data[data['bank_account_type'] == 'Current']['good_bad_flag']\n",
    "print(acc_cur.value_counts(normalize=True))\n",
    "sns.countplot(acc_cur)\n",
    "plt.title(\"Current with good bad flag\")"
   ]
  },
  {
   "cell_type": "markdown",
   "metadata": {},
   "source": [
    "From the plot, we can see that most customers opened the savings account with only few people opening current account "
   ]
  },
  {
   "cell_type": "code",
   "execution_count": 20,
   "metadata": {},
   "outputs": [
    {
     "data": {
      "text/plain": [
       "<AxesSubplot:title={'center':'Customers Employment status'}, xlabel='employment_status_clients', ylabel='count'>"
      ]
     },
     "execution_count": 20,
     "metadata": {},
     "output_type": "execute_result"
    },
    {
     "data": {
      "image/png": "[encoded data removed]",
      "text/plain": [
       "<Figure size 648x360 with 1 Axes>"
      ]
     },
     "metadata": {
      "needs_background": "light"
     },
     "output_type": "display_data"
    }
   ],
   "source": [
    "#distribution of the amount of banktypes\n",
    "\n",
    "plt.title('Customers Employment status');\n",
    "sns.countplot(data['employment_status_clients'])"
   ]
  },
  {
   "cell_type": "markdown",
   "metadata": {},
   "source": [
    "Most of their customers are parmanently employed with a few of them unemployed"
   ]
  },
  {
   "cell_type": "code",
   "execution_count": 21,
   "metadata": {},
   "outputs": [
    {
     "data": {
      "image/png": "[encoded data removed]",
      "text/plain": [
       "<Figure size 823.825x360 with 1 Axes>"
      ]
     },
     "metadata": {
      "needs_background": "light"
     },
     "output_type": "display_data"
    }
   ],
   "source": [
    "sns.catplot(x='employment_status_clients' ,data=data,hue='good_bad_flag',kind ='count',aspect=2)\n",
    "\n",
    "plt.title('Distribution of defaulting rate  based on employment status');"
   ]
  },
  {
   "cell_type": "code",
   "execution_count": 22,
   "metadata": {},
   "outputs": [
    {
     "name": "stdout",
     "output_type": "stream",
     "text": [
      "Good    0.794719\n",
      "Bad     0.205281\n",
      "Name: good_bad_flag, dtype: float64\n"
     ]
    },
    {
     "data": {
      "text/plain": [
       "Text(0.5, 1.0, 'Parmanent with good bad flag')"
      ]
     },
     "execution_count": 22,
     "metadata": {},
     "output_type": "execute_result"
    },
    {
     "data": {
      "image/png": "[encoded data removed]",
      "text/plain": [
       "<Figure size 648x360 with 1 Axes>"
      ]
     },
     "metadata": {
      "needs_background": "light"
     },
     "output_type": "display_data"
    }
   ],
   "source": [
    "acc_dat = data[data['employment_status_clients'] == 'Permanent']['good_bad_flag']\n",
    "print(acc_dat.value_counts(normalize=True))\n",
    "sns.countplot(acc_dat)\n",
    "plt.title(\"Parmanent with good bad flag\")"
   ]
  },
  {
   "cell_type": "code",
   "execution_count": 23,
   "metadata": {},
   "outputs": [
    {
     "name": "stdout",
     "output_type": "stream",
     "text": [
      "Good    0.837209\n",
      "Bad     0.162791\n",
      "Name: good_bad_flag, dtype: float64\n"
     ]
    },
    {
     "data": {
      "text/plain": [
       "Text(0.5, 1.0, 'Unemployed with good bad flag')"
      ]
     },
     "execution_count": 23,
     "metadata": {},
     "output_type": "execute_result"
    },
    {
     "data": {
      "image/png": "[encoded data removed]",
      "text/plain": [
       "<Figure size 648x360 with 1 Axes>"
      ]
     },
     "metadata": {
      "needs_background": "light"
     },
     "output_type": "display_data"
    }
   ],
   "source": [
    "acc_dat = data[data['employment_status_clients'] == 'Unemployed']['good_bad_flag']\n",
    "print(acc_dat.value_counts(normalize=True))\n",
    "sns.countplot(acc_dat)\n",
    "plt.title(\"Unemployed with good bad flag\")"
   ]
  },
  {
   "cell_type": "code",
   "execution_count": 24,
   "metadata": {},
   "outputs": [
    {
     "name": "stdout",
     "output_type": "stream",
     "text": [
      "Good    0.72973\n",
      "Bad     0.27027\n",
      "Name: good_bad_flag, dtype: float64\n"
     ]
    },
    {
     "data": {
      "text/plain": [
       "Text(0.5, 1.0, 'Student with good bad flag')"
      ]
     },
     "execution_count": 24,
     "metadata": {},
     "output_type": "execute_result"
    },
    {
     "data": {
      "image/png": "[encoded data removed]",
      "text/plain": [
       "<Figure size 648x360 with 1 Axes>"
      ]
     },
     "metadata": {
      "needs_background": "light"
     },
     "output_type": "display_data"
    }
   ],
   "source": [
    "acc_dat = data[data['employment_status_clients'] == 'Student']['good_bad_flag']\n",
    "print(acc_dat.value_counts(normalize=True))\n",
    "sns.countplot(acc_dat)\n",
    "plt.title(\"Student with good bad flag\")"
   ]
  },
  {
   "cell_type": "code",
   "execution_count": 25,
   "metadata": {},
   "outputs": [
    {
     "name": "stdout",
     "output_type": "stream",
     "text": [
      "Good    0.837545\n",
      "Bad     0.162455\n",
      "Name: good_bad_flag, dtype: float64\n"
     ]
    },
    {
     "data": {
      "text/plain": [
       "Text(0.5, 1.0, 'Self-Employed with good bad flag')"
      ]
     },
     "execution_count": 25,
     "metadata": {},
     "output_type": "execute_result"
    },
    {
     "data": {
      "image/png": "[encoded data removed]",
      "text/plain": [
       "<Figure size 648x360 with 1 Axes>"
      ]
     },
     "metadata": {
      "needs_background": "light"
     },
     "output_type": "display_data"
    }
   ],
   "source": [
    "acc_dat = data[data['employment_status_clients'] == 'Self-Employed']['good_bad_flag']\n",
    "print(acc_dat.value_counts(normalize=True))\n",
    "sns.countplot(acc_dat)\n",
    "plt.title(\"Self-Employed with good bad flag\")"
   ]
  },
  {
   "cell_type": "code",
   "execution_count": 26,
   "metadata": {},
   "outputs": [
    {
     "data": {
      "image/png": "[encoded data removed]",
      "text/plain": [
       "<Figure size 852.2x360 with 1 Axes>"
      ]
     },
     "metadata": {
      "needs_background": "light"
     },
     "output_type": "display_data"
    }
   ],
   "source": [
    "sns.catplot(x='employment_status_clients' ,data=data,hue='bank_account_type',kind ='count',aspect=2)\n",
    "\n",
    "plt.title('Distribution of account types based on employment status');"
   ]
  },
  {
   "cell_type": "code",
   "execution_count": 27,
   "metadata": {},
   "outputs": [
    {
     "data": {
      "image/png": "[encoded data removed]",
      "text/plain": [
       "<Figure size 648x360 with 1 Axes>"
      ]
     },
     "metadata": {
      "needs_background": "light"
     },
     "output_type": "display_data"
    }
   ],
   "source": [
    "b_n = data['bank_name_clients'].value_counts(ascending=False).reset_index()\n",
    "\n",
    "plt.bar(height=b_n['bank_name_clients'], x= b_n['index'])\n",
    "plt.title('Banks Client use')\n",
    "plt.xlabel('Banks')\n",
    "plt.ylabel('Count')\n",
    "plt.xticks(rotation=70);\n",
    "\n",
    "# b_n "
   ]
  },
  {
   "cell_type": "markdown",
   "metadata": {},
   "source": [
    "##### Most of their customers used Gtb bank"
   ]
  },
  {
   "cell_type": "code",
   "execution_count": 28,
   "metadata": {},
   "outputs": [
    {
     "data": {
      "text/plain": [
       "bank_name_clients   good_bad_flag\n",
       "Access Bank         Good             0.762918\n",
       "                    Bad              0.237082\n",
       "Diamond Bank        Good             0.856481\n",
       "                    Bad              0.143519\n",
       "EcoBank             Good             0.741379\n",
       "                    Bad              0.258621\n",
       "FCMB                Good             0.741573\n",
       "                    Bad              0.258427\n",
       "Fidelity Bank       Good             0.770270\n",
       "                    Bad              0.229730\n",
       "First Bank          Good             0.779070\n",
       "                    Bad              0.220930\n",
       "GT Bank             Good             0.784298\n",
       "                    Bad              0.215702\n",
       "Heritage Bank       Good             0.833333\n",
       "                    Bad              0.166667\n",
       "Keystone Bank       Good             0.785714\n",
       "                    Bad              0.214286\n",
       "Skye Bank           Good             0.710526\n",
       "                    Bad              0.289474\n",
       "Stanbic IBTC        Good             0.846154\n",
       "                    Bad              0.153846\n",
       "Standard Chartered  Good             0.923077\n",
       "                    Bad              0.076923\n",
       "Sterling Bank       Good             0.651163\n",
       "                    Bad              0.348837\n",
       "UBA                 Good             0.773234\n",
       "                    Bad              0.226766\n",
       "Union Bank          Good             0.866667\n",
       "                    Bad              0.133333\n",
       "Unity Bank          Good             0.800000\n",
       "                    Bad              0.200000\n",
       "Wema Bank           Good             0.894737\n",
       "                    Bad              0.105263\n",
       "Zenith Bank         Good             0.772321\n",
       "                    Bad              0.227679\n",
       "Name: good_bad_flag, dtype: float64"
      ]
     },
     "execution_count": 28,
     "metadata": {},
     "output_type": "execute_result"
    }
   ],
   "source": [
    "g = data.groupby('bank_name_clients')['good_bad_flag'].value_counts(normalize=True)  \n",
    "g"
   ]
  },
  {
   "cell_type": "markdown",
   "metadata": {},
   "source": [
    "Only about a quater had a bad flag while the rest had a good flag"
   ]
  },
  {
   "cell_type": "markdown",
   "metadata": {},
   "source": [
    "### Feature Engineering"
   ]
  },
  {
   "cell_type": "code",
   "execution_count": 29,
   "metadata": {},
   "outputs": [
    {
     "data": {
      "text/plain": [
       "loannumber                      0\n",
       "approveddate                    0\n",
       "creationdate                    0\n",
       "loanamount                      0\n",
       "totaldue                        0\n",
       "termdays                        0\n",
       "good_bad_flag                   0\n",
       "birthdate                    1099\n",
       "bank_account_type            1099\n",
       "longitude_gps                1099\n",
       "latitude_gps                 1099\n",
       "bank_name_clients            1099\n",
       "employment_status_clients    1592\n",
       "dtype: int64"
      ]
     },
     "execution_count": 29,
     "metadata": {},
     "output_type": "execute_result"
    }
   ],
   "source": [
    "#fill in null vaues\n",
    "\n",
    "data.isnull().sum()"
   ]
  },
  {
   "cell_type": "code",
   "execution_count": 30,
   "metadata": {},
   "outputs": [
    {
     "data": {
      "text/plain": [
       "loannumber                      0\n",
       "approveddate                    0\n",
       "creationdate                    0\n",
       "loanamount                      0\n",
       "totaldue                        0\n",
       "termdays                        0\n",
       "birthdate                    1065\n",
       "bank_account_type            1065\n",
       "longitude_gps                1065\n",
       "latitude_gps                 1065\n",
       "bank_name_clients            1065\n",
       "employment_status_clients    1118\n",
       "dtype: int64"
      ]
     },
     "execution_count": 30,
     "metadata": {},
     "output_type": "execute_result"
    }
   ],
   "source": [
    "test.isnull().sum()"
   ]
  },
  {
   "cell_type": "code",
   "execution_count": 31,
   "metadata": {},
   "outputs": [],
   "source": [
    "#feature engineering of the dates    \t \n",
    "\n",
    "data['approveddate'] = pd.to_datetime(data['approveddate'])\n",
    "data['birthdate'] = pd.to_datetime(data['birthdate'])\n",
    "data['creationdate'] = pd.to_datetime(data['creationdate'])\n",
    "\n",
    "\n",
    "\n",
    "\n",
    "test['approveddate'] = pd.to_datetime(test['approveddate'],errors='coerce')\n",
    "test['birthdate'] = pd.to_datetime(test['birthdate'],errors='coerce')\n",
    "test['creationdate'] = pd.to_datetime(test['creationdate'],errors='coerce')\n",
    "\n",
    "\n",
    "\n",
    "# Extract date features\n",
    "def extract_date_info(df,cols):\n",
    "    for feat in cols:\n",
    "        df[feat +'_year'] = df[feat].dt.year        \n",
    "        df[feat +'_day'] = df[feat].dt.day\n",
    "        df[feat +'_month'] = df[feat].dt.month\n",
    "        df[feat +'_quarter'] = df[feat].dt.quarter  \n",
    "        df[feat +'_weekday'] = df[feat].dt.weekday\n",
    "        df[feat +'_hour'] = df[feat].dt.hour\n",
    "        df[feat +'_minute'] = df[feat].dt.minute\n",
    "        df[feat +'_second'] = df[feat].dt.second\n",
    "        \n",
    "        \n",
    "extract_date_info(data,['approveddate'])\n",
    "extract_date_info(data,['birthdate'])\n",
    "extract_date_info(data,['creationdate'])\n",
    "\n",
    "\n",
    "extract_date_info(test,['approveddate'])\n",
    "extract_date_info(test,['birthdate'])\n",
    "extract_date_info(test,['creationdate'])\n",
    "\n",
    "\n",
    "\n",
    "data = data.drop(['approveddate','birthdate', 'creationdate'],1)\n",
    "test = test.drop(['approveddate','birthdate', 'creationdate'],1)\n",
    "\n",
    "\n",
    "# max(data['creationdate'])"
   ]
  },
  {
   "cell_type": "code",
   "execution_count": 32,
   "metadata": {},
   "outputs": [
    {
     "name": "stdout",
     "output_type": "stream",
     "text": [
      "(1450, 30)\n",
      "(4376, 31)\n"
     ]
    }
   ],
   "source": [
    "data = data.drop(['birthdate_hour','birthdate_minute', 'birthdate_second'],1)\n",
    "test = test.drop(['birthdate_hour','birthdate_minute', 'birthdate_second'],1)\n",
    "\n",
    "print(test.shape)\n",
    "\n",
    "print(data.shape)"
   ]
  },
  {
   "cell_type": "code",
   "execution_count": 33,
   "metadata": {},
   "outputs": [],
   "source": [
    "t_target = data['good_bad_flag'].map({'Good':1,'Bad':0})\n",
    "\n",
    "t_data = data.drop('good_bad_flag',1)\n",
    "\n"
   ]
  },
  {
   "cell_type": "code",
   "execution_count": 34,
   "metadata": {},
   "outputs": [
    {
     "data": {
      "text/plain": [
       "loannumber                      0\n",
       "loanamount                      0\n",
       "totaldue                        0\n",
       "termdays                        0\n",
       "bank_account_type            1099\n",
       "longitude_gps                1099\n",
       "latitude_gps                 1099\n",
       "bank_name_clients            1099\n",
       "employment_status_clients    1592\n",
       "approveddate_year               0\n",
       "approveddate_day                0\n",
       "approveddate_month              0\n",
       "approveddate_quarter            0\n",
       "approveddate_weekday            0\n",
       "approveddate_hour               0\n",
       "approveddate_minute             0\n",
       "approveddate_second             0\n",
       "birthdate_year               1099\n",
       "birthdate_day                1099\n",
       "birthdate_month              1099\n",
       "birthdate_quarter            1099\n",
       "birthdate_weekday            1099\n",
       "creationdate_year               0\n",
       "creationdate_day                0\n",
       "creationdate_month              0\n",
       "creationdate_quarter            0\n",
       "creationdate_weekday            0\n",
       "creationdate_hour               0\n",
       "creationdate_minute             0\n",
       "creationdate_second             0\n",
       "dtype: int64"
      ]
     },
     "execution_count": 34,
     "metadata": {},
     "output_type": "execute_result"
    }
   ],
   "source": [
    "t_data.isnull().sum()"
   ]
  },
  {
   "cell_type": "code",
   "execution_count": 35,
   "metadata": {},
   "outputs": [
    {
     "data": {
      "text/plain": [
       "Index(['loannumber', 'loanamount', 'totaldue', 'termdays', 'bank_account_type',\n",
       "       'longitude_gps', 'latitude_gps', 'bank_name_clients',\n",
       "       'employment_status_clients', 'approveddate_year', 'approveddate_day',\n",
       "       'approveddate_month', 'approveddate_quarter', 'approveddate_weekday',\n",
       "       'approveddate_hour', 'approveddate_minute', 'approveddate_second',\n",
       "       'birthdate_year', 'birthdate_day', 'birthdate_month',\n",
       "       'birthdate_quarter', 'birthdate_weekday', 'creationdate_year',\n",
       "       'creationdate_day', 'creationdate_month', 'creationdate_quarter',\n",
       "       'creationdate_weekday', 'creationdate_hour', 'creationdate_minute',\n",
       "       'creationdate_second'],\n",
       "      dtype='object')"
      ]
     },
     "execution_count": 35,
     "metadata": {},
     "output_type": "execute_result"
    }
   ],
   "source": [
    "test.columns"
   ]
  },
  {
   "cell_type": "markdown",
   "metadata": {},
   "source": [
    "## Model building"
   ]
  },
  {
   "cell_type": "code",
   "execution_count": 36,
   "metadata": {},
   "outputs": [],
   "source": [
    "\n",
    "#split your data into train and test\n",
    "train_x, test_x, train_y, test_y = train_test_split(t_data, t_target,stratify= t_target, test_size=0.2,\n",
    "                                                    random_state=SEED)\n",
    "      \n",
    "#Converts the categorical variables in numeric\n",
    "ordin = OrdinalEncoder(cols=t_data[['bank_account_type','bank_name_clients','employment_status_clients']])\n",
    "   \n",
    "#fills in any missing data using the median of the data distribution  \n",
    "Imputer = imputer(strategy='median')\n",
    "\n",
    "#hyperparameters of the machine learning model\n",
    "param = {'ccp_alpha': 0.00109090909090909, 'class_weight': 'balanced'}\n",
    "\n",
    "#instantiate the random forest machine learning model\n",
    "randomforest = RandomForestClassifier(**param,random_state=SEED)\n",
    "Logistic = LogisticRegression(class_weight='balanced',random_state=SEED)\n",
    "\n"
   ]
  },
  {
   "cell_type": "code",
   "execution_count": 37,
   "metadata": {},
   "outputs": [
    {
     "name": "stdout",
     "output_type": "stream",
     "text": [
      "Light accuracy :  0.8380427291523087 \t\n",
      "Logistic accuracy : 0.6105072463768116\n"
     ]
    }
   ],
   "source": [
    "#pipeline for random_forest\n",
    "step = [ ('encoder',  ordin),('imputer', Imputer), ('random forest', randomforest)]\n",
    "pipeline = Pipeline(step)\n",
    "pipeline = pipeline.fit(train_x,train_y)\n",
    "preds = pipeline.predict(test_x)\n",
    "\n",
    "#pipeline for logistic regression\n",
    "step1 = [ ('encoder',  ordin),('imputer', Imputer), ('Logistic', Logistic)]\n",
    "pipeline1 = Pipeline(step1)\n",
    "pipeline1 = pipeline1.fit(train_x,train_y)\n",
    "pred_log = pipeline1.predict(train_x)\n",
    "pred_Logistic = pipeline1.predict(test_x)\n",
    "\n",
    "randomforest_accuracy  = f1_score(test_y,preds)\n",
    "Logistic_accuracy  = f1_score(test_y,pred_Logistic)\n",
    "\n",
    "print('random_forest accuracy : ', randomforest_accuracy, '\\t')\n",
    "print('Logistic accuracy :',Logistic_accuracy) "
   ]
  },
  {
   "cell_type": "code",
   "execution_count": 38,
   "metadata": {},
   "outputs": [
    {
     "data": {
      "text/plain": [
       "<AxesSubplot:xlabel='good_bad_flag', ylabel='Density'>"
      ]
     },
     "execution_count": 38,
     "metadata": {},
     "output_type": "execute_result"
    },
    {
     "data": {
      "image/png": "[encoded data removed]",
      "text/plain": [
       "<Figure size 648x360 with 1 Axes>"
      ]
     },
     "metadata": {
      "needs_background": "light"
     },
     "output_type": "display_data"
    }
   ],
   "source": [
    "predictions = pipeline.predict(test)\n",
    "\n",
    "# # Create a submission file\n",
    "\n",
    "samplesubmission['good_bad_flag'] = predictions\n",
    "\n",
    "\n",
    "#write to csv file\n",
    "samplesubmission.to_csv(\"firstline.csv\", index = False)\n",
    "\n",
    "t = samplesubmission['good_bad_flag']\n",
    "\n",
    "sns.distplot(t)\n"
   ]
  },
  {
   "cell_type": "markdown",
   "metadata": {},
   "source": [
    "### Feature Importance"
   ]
  },
  {
   "cell_type": "code",
   "execution_count": 44,
   "metadata": {},
   "outputs": [
    {
     "data": {
      "text/plain": [
       "Text(0.5, 1.0, 'Model features importance:')"
      ]
     },
     "execution_count": 44,
     "metadata": {},
     "output_type": "execute_result"
    },
    {
     "data": {
      "image/png": "[encoded data removed]",
      "text/plain": [
       "<Figure size 1584x1008 with 1 Axes>"
      ]
     },
     "metadata": {
      "needs_background": "light"
     },
     "output_type": "display_data"
    }
   ],
   "source": [
    "feature_importance_df = pd.DataFrame(randomforest.feature_importances_, columns=['importance'])\n",
    "feature_importance_df['feature'] = train_x.columns\n",
    "\n",
    "plt.figure(figsize=(22, 14));\n",
    "sns.barplot(x=\"importance\", y=\"feature\", data=feature_importance_df.sort_values(by = ['importance'], ascending = False))\n",
    "plt.title('Model features importance:')"
   ]
  },
  {
   "cell_type": "code",
   "execution_count": 40,
   "metadata": {},
   "outputs": [],
   "source": [
    "filename = 'loan_model.sav'\n",
    "with open(filename,'wb') as ft:\n",
    "    pickle.dump(pipeline, ft)"
   ]
  },
  {
   "cell_type": "code",
   "execution_count": null,
   "metadata": {},
   "outputs": [],
   "source": []
  },
  {
   "cell_type": "code",
   "execution_count": null,
   "metadata": {},
   "outputs": [],
   "source": []
  }
 ],
 "metadata": {
  "kernelspec": {
   "display_name": "Python 3.10.5 64-bit",
   "language": "python",
   "name": "python3"
  },
  "language_info": {
   "codemirror_mode": {
    "name": "ipython",
    "version": 3
   },
   "file_extension": ".py",
   "mimetype": "text/x-python",
   "name": "python",
   "nbconvert_exporter": "python",
   "pygments_lexer": "ipython3",
   "version": "3.10.5"
  },
  "orig_nbformat": 4,
  "vscode": {
   "interpreter": {
    "hash": "a09c02962fb8aced7ae43b4daf33da758c7fd83e4daf489e1408e1120680a966"
   }
  }
 },
 "nbformat": 4,
 "nbformat_minor": 2
}
